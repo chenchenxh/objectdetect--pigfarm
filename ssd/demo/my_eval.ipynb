{
 "cells": [
  {
   "cell_type": "markdown",
   "metadata": {},
   "source": [
    "# Object Detection with SSD\n",
    "### Here we demostrate detection on example images using SSD with PyTorch"
   ]
  },
  {
   "cell_type": "code",
   "execution_count": 1,
   "metadata": {},
   "outputs": [],
   "source": [
    "import os\n",
    "import sys\n",
    "module_path = os.path.abspath(os.path.join('..'))\n",
    "if module_path not in sys.path:\n",
    "    sys.path.append(module_path)\n",
    "\n",
    "import torch\n",
    "import torch.nn as nn\n",
    "import torch.backends.cudnn as cudnn\n",
    "from torch.autograd import Variable\n",
    "import numpy as np\n",
    "import cv2\n",
    "if torch.cuda.is_available():\n",
    "    torch.set_default_tensor_type('torch.cuda.FloatTensor')\n",
    "\n",
    "from ssd import build_ssd\n",
    "\n",
    "%matplotlib inline\n",
    "from matplotlib import pyplot as plt\n",
    "import os.path as osp"
   ]
  },
  {
   "cell_type": "code",
   "execution_count": 2,
   "metadata": {
    "scrolled": false
   },
   "outputs": [
    {
     "name": "stdout",
     "output_type": "stream",
     "text": [
      "Loading weights into state dict...\n",
      "Finished!\n"
     ]
    },
    {
     "name": "stderr",
     "output_type": "stream",
     "text": [
      "/home/jovyan/ssd/ssd.py:34: UserWarning: volatile was removed and now has no effect. Use `with torch.no_grad():` instead.\n",
      "  self.priors = Variable(self.priorbox.forward(), volatile=True)\n"
     ]
    }
   ],
   "source": [
    "net = build_ssd('test', 300, 2)    # initialize SSD\n",
    "net.load_weights('../weights/dehaze/ssd300_dehaze_1_1e-5_11500.pth')"
   ]
  },
  {
   "cell_type": "markdown",
   "metadata": {},
   "source": [
    "# 计算gt和pt的iou"
   ]
  },
  {
   "cell_type": "code",
   "execution_count": 3,
   "metadata": {},
   "outputs": [],
   "source": [
    "#计算iou\n",
    "def get_iou(gt, pt):\n",
    "    x_left = max(gt[0],pt[0])\n",
    "    y_top = max(gt[1], pt[1])\n",
    "    x_right = min(gt[2], pt[2])\n",
    "    y_bottom = min(gt[3], pt[3])\n",
    "    if x_right < x_left or y_bottom < y_top:\n",
    "        return 0.0\n",
    "    \n",
    "    intersection_area = (x_right - x_left) * (y_bottom - y_top)\n",
    "    \n",
    "    bb1_area = (gt[2] - gt[0]) * (gt[3] - gt[1])\n",
    "    bb2_area = (pt[2] - pt[0]) * (pt[3] - pt[1])\n",
    "    \n",
    "    iou = intersection_area / float(bb1_area + bb2_area - intersection_area)\n",
    "    \n",
    "    assert iou >= 0.0\n",
    "    assert iou <= 1.0\n",
    "    return iou"
   ]
  },
  {
   "cell_type": "markdown",
   "metadata": {},
   "source": [
    "# 计算gts和pts的指标"
   ]
  },
  {
   "cell_type": "code",
   "execution_count": 4,
   "metadata": {},
   "outputs": [],
   "source": [
    "#计算该图像的num p tp fp rpp  \n",
    "def calculate(gts,pts,iou_limit=0.5):\n",
    "    gt_labels = np.zeros(len(gts))\n",
    "    pt_labels = np.zeros(len(pts))\n",
    "    tp = 0\n",
    "    fp = 0\n",
    "    fn = 0\n",
    "    rpp = 0 #多个预测一个猪场\n",
    "    rpp2 = 0#一个预测多个猪场\n",
    "    \n",
    "    \n",
    "    for j,pt in enumerate(pts):\n",
    "        for i,gt in enumerate(gts):\n",
    "            iou = get_iou(gt,pt)\n",
    "            if iou >= iou_limit:\n",
    "                if gt_labels[i]==0 and pt_labels[j]==0:\n",
    "                    tp += 1\n",
    "                elif gt_labels[i]==1 and pt_labels[j]==0:\n",
    "                    tp += 1\n",
    "                    rpp += 1\n",
    "                elif gt_labels[i]==0 and pt_labels[j]==1:\n",
    "                    tp += 1\n",
    "                    rpp2 += 1\n",
    "                else:\n",
    "                    print('error')\n",
    "                gt_labels[i] = 1\n",
    "                pt_labels[j] = 1\n",
    "        if pt_labels[j] == 0:\n",
    "            fp += 1\n",
    "    for j,gt in enumerate(gts):\n",
    "        if gt_labels[j] == 0:\n",
    "            fn += 1\n",
    "    return [tp, fp, fn]"
   ]
  },
  {
   "cell_type": "code",
   "execution_count": 5,
   "metadata": {},
   "outputs": [],
   "source": [
    "def eval(limit_detection,dataset,iou_limit,predict_multi=0):\n",
    "    sum_of_pigfarms = 0\n",
    "    sum_of_predict_pigfarms = 0\n",
    "    sum_of_tp = 0\n",
    "    sum_of_fp = 0\n",
    "    sum_of_fn = 0\n",
    "    \n",
    "    testset = VOCDetection(VOC_ROOT, [('2007', dataset)], None, VOCAnnotationTransform())\n",
    "    for img_id in range(len(testset)):\n",
    "#         if img_id%100==0:\n",
    "#             print(img_id,'/',len(testset))\n",
    "        image = testset.pull_image(img_id)\n",
    "\n",
    "        rgb_image = cv2.cvtColor(image, cv2.COLOR_BGR2RGB)\n",
    "\n",
    "        x = cv2.resize(image, (300, 300)).astype(np.float32)\n",
    "        x -= (104.0, 117.0, 123.0)\n",
    "        x = x.astype(np.float32)\n",
    "        x = x[:, :, ::-1].copy()\n",
    "    #     plt.imshow(x)\n",
    "        x = torch.from_numpy(x).permute(2, 0, 1)\n",
    "\n",
    "        xx = Variable(x.unsqueeze(0))     # wrap tensor in Variable\n",
    "        if torch.cuda.is_available():\n",
    "            xx = xx.cuda()\n",
    "        y = net(xx)\n",
    "\n",
    "\n",
    "        from data import VOC_CLASSES as labels\n",
    "        top_k=10\n",
    "\n",
    "        detections = y.data\n",
    "        # scale each detection back up to the image\n",
    "        scale = torch.Tensor(rgb_image.shape[1::-1]).repeat(2)\n",
    "        \n",
    "        num = 0\n",
    "        [imageid, gts] = testset.pull_anno(img_id)\n",
    "        pts = []\n",
    "        for i in range(detections.size(1)):\n",
    "            j = 0\n",
    "            if predict_multi==0:\n",
    "                while detections[0,i,j,0] >= limit_detection:\n",
    "                    score = detections[0,i,j,0]\n",
    "                    num +=1  \n",
    "                    pt = (detections[0,i,j,1:]*scale).cpu().numpy()\n",
    "                    pts.append(pt)\n",
    "                    j+=1\n",
    "            else:\n",
    "                scores = []\n",
    "                while detections[0,i,j,0]>=0.15:\n",
    "                    score = detections[0,i,j,0]\n",
    "                    pt = (detections[0,i,j,1:]*scale).cpu().numpy()\n",
    "\n",
    "                    if len(pts)<predict_multi*len(gts):\n",
    "                        pts.append(pt)\n",
    "                        scores.append(score)\n",
    "                    else :\n",
    "                        if score > min(scores):\n",
    "                            min_index = scores.index(min(scores))\n",
    "                            pts[min_index] = pt\n",
    "                            scores[min_index] = score\n",
    "                    j+=1\n",
    "                num = len(pts)\n",
    "#                 if num!=predict_multi*len(gts):\n",
    "#                     print('error',num,len(gts))\n",
    "                        \n",
    "        sum_of_predict_pigfarms += num  #计算预测的猪场的总数\n",
    "        sum_of_pigfarms += len(gts)  #计算猪场数目\n",
    "\n",
    "        #根据gts和pts计算该图像的预测参数\n",
    "        [tp,fp,fn] = calculate(gts,pts,iou_limit)\n",
    "        \n",
    "#         print(\"img \",img_id,': ',tp, fp , rpp)\n",
    "        sum_of_tp += tp\n",
    "        sum_of_fp += fp\n",
    "        sum_of_fn += fn\n",
    "    return [sum_of_tp,sum_of_fp,sum_of_fn]\n",
    "#     print(\"猪场数目：\",sum_of_pigfarms)\n",
    "#     print(\"预测的猪场数目：\",sum_of_predict_pigfarms)\n",
    "#     print(\"正确预测的猪场数目\",sum_of_tp)\n",
    "#     print(\"错误预测的猪场数目\",sum_of_fp)\n",
    "#     print(\"多个预测一个猪场数目\",sum_of_rpp)\n",
    "#     print(\"一个预测多个猪场数目\",sum_of_rpp2)\n",
    "#     print(\"预测准确度 {}/{}={}\".format(sum_of_tp-sum_of_rpp+sum_of_rpp2,sum_of_predict_pigfarms-sum_of_rpp+sum_of_rpp2,(sum_of_tp-sum_of_rpp+sum_of_rpp2)/(sum_of_predict_pigfarms-sum_of_rpp+sum_of_rpp2)))\n",
    "#     print(\"预测准确数量在猪场数量占比{}/{}={}\".format(sum_of_tp,sum_of_pigfarms,sum_of_tp/sum_of_pigfarms))"
   ]
  },
  {
   "cell_type": "code",
   "execution_count": 6,
   "metadata": {},
   "outputs": [],
   "source": [
    "#是否使用新地图，是则取消第二行注释\n",
    "from data import VOCDetection, VOC_ROOT, VOCAnnotationTransform\n",
    "# VOC_ROOT = osp.join(\"/home/jovyan/data/newdata/\")\n",
    "VOC_ROOT = osp.join(\"/home/jovyan/data/data3-5/dehaze/\")"
   ]
  },
  {
   "cell_type": "markdown",
   "metadata": {},
   "source": [
    "# IoU0.5"
   ]
  },
  {
   "cell_type": "code",
   "execution_count": 10,
   "metadata": {
    "scrolled": true
   },
   "outputs": [
    {
     "name": "stdout",
     "output_type": "stream",
     "text": [
      "score: 0.1\n",
      "tp： 603 fp： 6385 fn： 440\n",
      "accuracy： 0.08117932148626818\n",
      "recall： 0.5781399808245445\n",
      "precision： 0.08629078420148827\n",
      "----------------------------------------\n",
      "score: 0.2\n",
      "tp： 461 fp： 733 fn： 553\n",
      "accuracy： 0.2638809387521465\n",
      "recall： 0.4546351084812623\n",
      "precision： 0.3860971524288107\n",
      "----------------------------------------\n",
      "score: 0.3\n",
      "tp： 388 fp： 367 fn： 622\n",
      "accuracy： 0.28177196804647786\n",
      "recall： 0.38415841584158417\n",
      "precision： 0.5139072847682119\n",
      "----------------------------------------\n",
      "score: 0.4\n",
      "tp： 350 fp： 248 fn： 658\n",
      "accuracy： 0.2786624203821656\n",
      "recall： 0.3472222222222222\n",
      "precision： 0.5852842809364549\n",
      "----------------------------------------\n",
      "score: 0.5\n",
      "tp： 308 fp： 181 fn： 700\n",
      "accuracy： 0.2590412111017662\n",
      "recall： 0.3055555555555556\n",
      "precision： 0.6298568507157464\n",
      "----------------------------------------\n",
      "score: 0.6\n",
      "tp： 272 fp： 137 fn： 736\n",
      "accuracy： 0.23755458515283842\n",
      "recall： 0.2698412698412698\n",
      "precision： 0.6650366748166259\n",
      "----------------------------------------\n",
      "score: 0.7\n",
      "tp： 243 fp： 93 fn： 765\n",
      "accuracy： 0.22070844686648503\n",
      "recall： 0.24107142857142858\n",
      "precision： 0.7232142857142857\n",
      "----------------------------------------\n",
      "score: 0.8\n",
      "tp： 193 fp： 70 fn： 815\n",
      "accuracy： 0.1790352504638219\n",
      "recall： 0.19146825396825398\n",
      "precision： 0.7338403041825095\n",
      "----------------------------------------\n",
      "score: 0.9\n",
      "tp： 135 fp： 40 fn： 873\n",
      "accuracy： 0.12881679389312978\n",
      "recall： 0.13392857142857142\n",
      "precision： 0.7714285714285715\n",
      "----------------------------------------\n"
     ]
    }
   ],
   "source": [
    "iou_limit = 0.5\n",
    "accuracys = []\n",
    "recalls = []\n",
    "precisions = []\n",
    "for score in np.arange(0.1,1.0,0.1):\n",
    "    print(\"score:\",score)\n",
    "    dataset = 'test'\n",
    "    [tp,fp,fn] = eval(score,dataset,iou_limit)\n",
    "\n",
    "    print(\"tp：\",tp,\"fp：\",fp,\"fn：\",fn)\n",
    "    print(\"accuracy：\",tp/(tp+fp+fn))\n",
    "    print(\"recall：\",tp/(tp+fn))\n",
    "    print(\"precision：\",tp/(tp+fp))\n",
    "    print(\"----------------------------------------\")\n",
    "    accuracys.append(tp/(tp+fp+fn))\n",
    "    recalls.append(tp/(tp+fn))\n",
    "    precisions.append(tp/(tp+fp))"
   ]
  },
  {
   "cell_type": "code",
   "execution_count": 15,
   "metadata": {},
   "outputs": [
    {
     "data": {
      "image/png": "[encoded data removed]",
      "text/plain": [
       "<Figure size 432x288 with 1 Axes>"
      ]
     },
     "metadata": {
      "needs_background": "light"
     },
     "output_type": "display_data"
    }
   ],
   "source": [
    "plt.plot(recalls,precisions)\n",
    "plt.title('IoU:0.5')\n",
    "plt.xlabel('recall')\n",
    "plt.ylabel('precision')\n",
    "plt.axis([0,1,0,1])\n",
    "plt.show()"
   ]
  },
  {
   "cell_type": "markdown",
   "metadata": {},
   "source": [
    "# IoU0.3"
   ]
  },
  {
   "cell_type": "code",
   "execution_count": 8,
   "metadata": {
    "scrolled": true
   },
   "outputs": [
    {
     "name": "stdout",
     "output_type": "stream",
     "text": [
      "score: 0.1\n",
      "tp： 935 fp： 6053 fn： 295\n",
      "accuracy： 0.12838116160922697\n",
      "recall： 0.7601626016260162\n",
      "precision： 0.13380080137378364\n",
      "----------------------------------------\n",
      "score: 0.2\n",
      "tp： 594 fp： 600 fn： 452\n",
      "accuracy： 0.36087484811664644\n",
      "recall： 0.5678776290630975\n",
      "precision： 0.49748743718592964\n",
      "----------------------------------------\n",
      "score: 0.3\n",
      "tp： 476 fp： 279 fn： 544\n",
      "accuracy： 0.36643571978444955\n",
      "recall： 0.4666666666666667\n",
      "precision： 0.6304635761589404\n",
      "----------------------------------------\n",
      "score: 0.4\n",
      "tp： 421 fp： 177 fn： 593\n",
      "accuracy： 0.3534844668345928\n",
      "recall： 0.4151873767258383\n",
      "precision： 0.7040133779264214\n",
      "----------------------------------------\n",
      "score: 0.5\n",
      "tp： 365 fp： 124 fn： 644\n",
      "accuracy： 0.32215357458075905\n",
      "recall： 0.36174430128840435\n",
      "precision： 0.7464212678936605\n",
      "----------------------------------------\n",
      "score: 0.6\n",
      "tp： 319 fp： 90 fn： 690\n",
      "accuracy： 0.2902638762511374\n",
      "recall： 0.31615460852329036\n",
      "precision： 0.7799511002444988\n",
      "----------------------------------------\n",
      "score: 0.7\n",
      "tp： 281 fp： 55 fn： 728\n",
      "accuracy： 0.2640977443609023\n",
      "recall： 0.27849355797819625\n",
      "precision： 0.8363095238095238\n",
      "----------------------------------------\n",
      "score: 0.8\n",
      "tp： 220 fp： 43 fn： 788\n",
      "accuracy： 0.2093244529019981\n",
      "recall： 0.21825396825396826\n",
      "precision： 0.8365019011406845\n",
      "----------------------------------------\n",
      "score: 0.9\n",
      "tp： 148 fp： 27 fn： 860\n",
      "accuracy： 0.14299516908212562\n",
      "recall： 0.14682539682539683\n",
      "precision： 0.8457142857142858\n",
      "----------------------------------------\n"
     ]
    }
   ],
   "source": [
    "iou_limit = 0.3\n",
    "accuracys_2 = []\n",
    "recalls_2 = []\n",
    "precisions_2 = []\n",
    "for score in np.arange(0.1,1.0,0.1):\n",
    "    print(\"score:\",score)\n",
    "    dataset = 'test'\n",
    "    [tp,fp,fn] = eval(score,dataset,iou_limit)\n",
    "\n",
    "    print(\"tp：\",tp,\"fp：\",fp,\"fn：\",fn)\n",
    "    print(\"accuracy：\",tp/(tp+fp+fn))\n",
    "    print(\"recall：\",tp/(tp+fn))\n",
    "    print(\"precision：\",tp/(tp+fp))\n",
    "    print(\"----------------------------------------\")\n",
    "    accuracys_2.append(tp/(tp+fp+fn))\n",
    "    recalls_2.append(tp/(tp+fn))\n",
    "    precisions_2.append(tp/(tp+fp))"
   ]
  },
  {
   "cell_type": "code",
   "execution_count": 16,
   "metadata": {},
   "outputs": [
    {
     "data": {
      "image/png": "[encoded data removed]",
      "text/plain": [
       "<Figure size 432x288 with 1 Axes>"
      ]
     },
     "metadata": {
      "needs_background": "light"
     },
     "output_type": "display_data"
    }
   ],
   "source": [
    "plt.plot(recalls_2,precisions_2)\n",
    "plt.title(\"IoU:0.3\")\n",
    "plt.xlabel('recall')\n",
    "plt.ylabel('precision')\n",
    "plt.axis([0,1,0,1])\n",
    "plt.show()"
   ]
  },
  {
   "cell_type": "markdown",
   "metadata": {},
   "source": [
    "## dehaze\n",
    "正常的limit"
   ]
  },
  {
   "cell_type": "code",
   "execution_count": 16,
   "metadata": {
    "scrolled": true
   },
   "outputs": [
    {
     "name": "stdout",
     "output_type": "stream",
     "text": [
      "0 / 889\n",
      "100 / 889\n",
      "200 / 889\n",
      "300 / 889\n",
      "400 / 889\n",
      "500 / 889\n",
      "600 / 889\n",
      "700 / 889\n",
      "800 / 889\n",
      "猪场数目： 1008\n",
      "预测的猪场数目： 598\n",
      "正确预测的猪场数目 350\n",
      "错误预测的猪场数目 248\n",
      "多个预测一个猪场数目 0\n",
      "一个预测多个猪场数目 0\n",
      "预测准确度 350/598=0.5852842809364549\n",
      "预测准确数量在猪场数量占比350/1008=0.3472222222222222\n"
     ]
    }
   ],
   "source": [
    "iou_limit = 0.5\n",
    "score_limit = 0.4\n",
    "dataset = 'test'\n",
    "eval(score_limit,dataset,iou_limit)"
   ]
  },
  {
   "cell_type": "markdown",
   "metadata": {},
   "source": [
    "降低ioulimit为0.2"
   ]
  },
  {
   "cell_type": "code",
   "execution_count": 17,
   "metadata": {},
   "outputs": [
    {
     "name": "stdout",
     "output_type": "stream",
     "text": [
      "0 / 889\n",
      "100 / 889\n",
      "200 / 889\n",
      "300 / 889\n",
      "400 / 889\n",
      "500 / 889\n",
      "600 / 889\n",
      "700 / 889\n",
      "800 / 889\n",
      "猪场数目： 1008\n",
      "预测的猪场数目： 598\n",
      "正确预测的猪场数目 453\n",
      "错误预测的猪场数目 148\n",
      "多个预测一个猪场数目 9\n",
      "一个预测多个猪场数目 3\n",
      "预测准确度 447/592=0.7550675675675675\n",
      "预测准确数量在猪场数量占比453/1008=0.4494047619047619\n"
     ]
    }
   ],
   "source": [
    "iou_limit = 0.2\n",
    "score_limit = 0.4\n",
    "dataset = 'test'\n",
    "eval(score_limit,dataset,iou_limit)"
   ]
  },
  {
   "cell_type": "code",
   "execution_count": 19,
   "metadata": {},
   "outputs": [
    {
     "name": "stdout",
     "output_type": "stream",
     "text": [
      "0 / 889\n",
      "100 / 889\n",
      "200 / 889\n",
      "300 / 889\n",
      "400 / 889\n",
      "500 / 889\n",
      "600 / 889\n",
      "700 / 889\n",
      "800 / 889\n",
      "猪场数目： 1008\n",
      "预测的猪场数目： 1733\n",
      "正确预测的猪场数目 787\n",
      "错误预测的猪场数目 949\n",
      "多个预测一个猪场数目 132\n",
      "一个预测多个猪场数目 3\n",
      "预测准确度 658/1604=0.4102244389027431\n",
      "预测准确数量在猪场数量占比787/1008=0.7807539682539683\n"
     ]
    }
   ],
   "source": [
    "iou_limit = 0.2\n",
    "score_limit = 0.2\n",
    "dataset = 'test'\n",
    "eval(score_limit,dataset,iou_limit,5)"
   ]
  },
  {
   "cell_type": "code",
   "execution_count": 22,
   "metadata": {},
   "outputs": [
    {
     "name": "stdout",
     "output_type": "stream",
     "text": [
      "0 / 889\n",
      "100 / 889\n",
      "200 / 889\n",
      "300 / 889\n",
      "400 / 889\n",
      "500 / 889\n",
      "600 / 889\n",
      "700 / 889\n",
      "800 / 889\n",
      "猪场数目： 1008\n",
      "预测的猪场数目： 1852\n",
      "正确预测的猪场数目 797\n",
      "错误预测的猪场数目 1058\n",
      "多个预测一个猪场数目 138\n",
      "一个预测多个猪场数目 3\n",
      "预测准确度 662/1717=0.38555620267909146\n",
      "预测准确数量在猪场数量占比797/1008=0.7906746031746031\n"
     ]
    }
   ],
   "source": [
    "iou_limit = 0.2\n",
    "score_limit = 0.1\n",
    "dataset = 'test'\n",
    "eval(score_limit,dataset,iou_limit,10)"
   ]
  },
  {
   "cell_type": "markdown",
   "metadata": {},
   "source": [
    "## data 4\n",
    "iou降低限制为0.2，并取五倍的bbox（score不低于0.2）"
   ]
  },
  {
   "cell_type": "code",
   "execution_count": 8,
   "metadata": {},
   "outputs": [
    {
     "name": "stdout",
     "output_type": "stream",
     "text": [
      "猪场数目： 1008\n",
      "预测的猪场数目： 1454\n",
      "正确预测的猪场数目 715\n",
      "错误预测的猪场数目 742\n",
      "多个预测一个猪场数目 91\n",
      "一个预测多个猪场数目 3\n",
      "预测准确度 627/1366=0.45900439238653\n",
      "预测准确数量在猪场数量占比715/1008=0.7093253968253969\n"
     ]
    }
   ],
   "source": [
    "#主要的指标1\n",
    "iou_limit = 0.2\n",
    "score_limit = 0.2\n",
    "dataset = 'test'\n",
    "eval(score_limit,dataset,iou_limit,5)"
   ]
  },
  {
   "cell_type": "code",
   "execution_count": 9,
   "metadata": {},
   "outputs": [
    {
     "name": "stdout",
     "output_type": "stream",
     "text": [
      "猪场数目： 1008\n",
      "预测的猪场数目： 602\n",
      "正确预测的猪场数目 335\n",
      "错误预测的猪场数目 267\n",
      "多个预测一个猪场数目 1\n",
      "一个预测多个猪场数目 0\n",
      "预测准确度 334/601=0.5557404326123128\n",
      "预测准确数量在猪场数量占比335/1008=0.3323412698412698\n"
     ]
    }
   ],
   "source": [
    "#主要的指标2\n",
    "#iou_limit = 0.5\n",
    "iou_limit = 0.5\n",
    "score_limit = 0.4\n",
    "dataset = 'test'\n",
    "eval(score_limit,dataset,iou_limit)"
   ]
  },
  {
   "cell_type": "markdown",
   "metadata": {},
   "source": [
    "## data 3\n",
    "iou降低限制为0.2，并取五倍的bbox（score不低于0.2）"
   ]
  },
  {
   "cell_type": "code",
   "execution_count": 159,
   "metadata": {
    "scrolled": false
   },
   "outputs": [
    {
     "name": "stdout",
     "output_type": "stream",
     "text": [
      "猪场数目： 728\n",
      "预测的猪场数目： 1064\n",
      "正确预测的猪场数目 536\n",
      "错误预测的猪场数目 531\n",
      "多个预测一个猪场数目 59\n",
      "一个预测多个猪场数目 3\n",
      "预测准确度 480/1008=0.47619047619047616\n",
      "预测准确数量在猪场数量占比536/728=0.7362637362637363\n"
     ]
    }
   ],
   "source": [
    "#主要的指标1\n",
    "iou_limit = 0.2\n",
    "score_limit = 0.2\n",
    "dataset = 'test'\n",
    "eval(score_limit,dataset,iou_limit,5)"
   ]
  },
  {
   "cell_type": "markdown",
   "metadata": {},
   "source": [
    "iou限制在0.5以上，score限制在0.4以上的predict结果"
   ]
  },
  {
   "cell_type": "code",
   "execution_count": 161,
   "metadata": {},
   "outputs": [
    {
     "name": "stdout",
     "output_type": "stream",
     "text": [
      "猪场数目： 728\n",
      "预测的猪场数目： 470\n",
      "正确预测的猪场数目 270\n",
      "错误预测的猪场数目 200\n",
      "多个预测一个猪场数目 1\n",
      "一个预测多个猪场数目 0\n",
      "预测准确度 269/469=0.5735607675906184\n",
      "预测准确数量在猪场数量占比270/728=0.3708791208791209\n"
     ]
    }
   ],
   "source": [
    "#主要的指标2\n",
    "#iou_limit = 0.5\n",
    "iou_limit = 0.5\n",
    "score_limit = 0.4\n",
    "dataset = 'test'\n",
    "eval(score_limit,dataset,iou_limit)"
   ]
  },
  {
   "cell_type": "code",
   "execution_count": null,
   "metadata": {},
   "outputs": [],
   "source": []
  },
  {
   "cell_type": "code",
   "execution_count": null,
   "metadata": {},
   "outputs": [],
   "source": []
  }
 ],
 "metadata": {
  "anaconda-cloud": {},
  "kernelspec": {
   "display_name": "Python 3",
   "language": "python",
   "name": "python3"
  },
  "language_info": {
   "codemirror_mode": {
    "name": "ipython",
    "version": 3
   },
   "file_extension": ".py",
   "mimetype": "text/x-python",
   "name": "python",
   "nbconvert_exporter": "python",
   "pygments_lexer": "ipython3",
   "version": "3.6.8"
  }
 },
 "nbformat": 4,
 "nbformat_minor": 1
}
