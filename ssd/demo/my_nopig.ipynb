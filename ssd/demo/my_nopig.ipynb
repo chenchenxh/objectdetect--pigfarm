{
 "cells": [
  {
   "cell_type": "markdown",
   "metadata": {},
   "source": [
    "# Object Detection with SSD\n",
    "### Here we demostrate detection on example images using SSD with PyTorch"
   ]
  },
  {
   "cell_type": "code",
   "execution_count": 1,
   "metadata": {},
   "outputs": [],
   "source": [
    "import os\n",
    "import sys\n",
    "module_path = os.path.abspath(os.path.join('..'))\n",
    "if module_path not in sys.path:\n",
    "    sys.path.append(module_path)\n",
    "\n",
    "import torch\n",
    "import torch.nn as nn\n",
    "import torch.backends.cudnn as cudnn\n",
    "from torch.autograd import Variable\n",
    "import numpy as np\n",
    "import cv2\n",
    "if torch.cuda.is_available():\n",
    "    torch.set_default_tensor_type('torch.cuda.FloatTensor')\n",
    "\n",
    "from ssd import build_ssd\n",
    "\n",
    "import matplotlib\n",
    "matplotlib.use('Agg')\n",
    "from matplotlib import pyplot as plt\n",
    "from data import VOCDetection, VOC_ROOT, VOCAnnotationTransform"
   ]
  },
  {
   "cell_type": "code",
   "execution_count": 2,
   "metadata": {
    "scrolled": false
   },
   "outputs": [
    {
     "name": "stdout",
     "output_type": "stream",
     "text": [
      "Loading weights into state dict...\n",
      "Finished!\n"
     ]
    },
    {
     "name": "stderr",
     "output_type": "stream",
     "text": [
      "/home/jovyan/ssd/ssd.py:34: UserWarning: volatile was removed and now has no effect. Use `with torch.no_grad():` instead.\n",
      "  self.priors = Variable(self.priorbox.forward(), volatile=True)\n"
     ]
    }
   ],
   "source": [
    "net = build_ssd('test', 300, 2)    # initialize SSD\n",
    "net.load_weights('../weights/ssd300_Data4_1_1e-4_11000.pth')"
   ]
  },
  {
   "cell_type": "markdown",
   "metadata": {},
   "source": [
    "# 预测没有猪场的图片"
   ]
  },
  {
   "cell_type": "code",
   "execution_count": 4,
   "metadata": {},
   "outputs": [],
   "source": [
    "def ssd_detect2(name,limit_detection,dataset):\n",
    "    # image = cv2.imread('./data/example.jpg', cv2.IMREAD_COLOR)  # uncomment if dataset not downloaded\n",
    "    # here we specify year (07 or 12) and dataset ('test', 'val', 'train') \n",
    "    testset = VOCDetection(VOC_ROOT, [('2007', dataset)], None, VOCAnnotationTransform())\n",
    "    \n",
    "    imagename = '/home/jovyan/data/nopig/%s.jpg'% name\n",
    "    image = cv2.imread(imagename, cv2.IMREAD_COLOR)\n",
    "    \n",
    "    rgb_image = cv2.cvtColor(image, cv2.COLOR_BGR2RGB)\n",
    "    # View the sampled input image before transform\n",
    "\n",
    "    x = cv2.resize(image, (300, 300)).astype(np.float32)\n",
    "    x -= (104.0, 117.0, 123.0)\n",
    "    x = x.astype(np.float32)\n",
    "    x = x[:, :, ::-1].copy()\n",
    "#     plt.imshow(x)\n",
    "    x = torch.from_numpy(x).permute(2, 0, 1)\n",
    "\n",
    "    xx = Variable(x.unsqueeze(0))     # wrap tensor in Variable\n",
    "    if torch.cuda.is_available():\n",
    "        xx = xx.cuda()\n",
    "    y = net(xx)\n",
    "\n",
    "    \n",
    "    from data import VOC_CLASSES as labels\n",
    "    top_k=10\n",
    "\n",
    "    plt.figure(figsize=(10,10))\n",
    "    colors = plt.cm.hsv(np.linspace(0, 1, 21)).tolist()\n",
    "      # plot the image for matplotlib\n",
    "    currentAxis = plt.gca()\n",
    "\n",
    "    detections = y.data\n",
    "    # scale each detection back up to the image\n",
    "    scale = torch.Tensor(rgb_image.shape[1::-1]).repeat(2)\n",
    "    for i in range(detections.size(1)):\n",
    "        j = 0\n",
    "        while detections[0,i,j,0] >= limit_detection:\n",
    "            score = detections[0,i,j,0]\n",
    "            label_name = labels[i-1]\n",
    "            display_txt = '%s: %.2f'%(label_name, score)\n",
    "            pt = (detections[0,i,j,1:]*scale).cpu().numpy()\n",
    "            coords = (pt[0], pt[1]), pt[2]-pt[0]+1, pt[3]-pt[1]+1\n",
    "            color = colors[i]\n",
    "            currentAxis.add_patch(plt.Rectangle(*coords, fill=False, edgecolor=color, linewidth=2))\n",
    "            currentAxis.text(pt[0], pt[1], display_txt, bbox={'facecolor':color, 'alpha':0.5})\n",
    "            j+=1\n",
    "\n",
    "    plt.imshow(rgb_image)\n",
    "    plt.savefig('result/data/'+name+'.jpg')\n",
    "    plt.close()"
   ]
  },
  {
   "cell_type": "code",
   "execution_count": 5,
   "metadata": {},
   "outputs": [],
   "source": [
    "#测试自己定义的图片\n",
    "limit_detection = 0.5\n",
    "dataset = 'test'\n",
    "# name = '12'\n",
    "# ssd_detect2(name,limit_detection,dataset)\n",
    "for i in range(12):\n",
    "    ssd_detect2(str(i+1),limit_detection,dataset)"
   ]
  },
  {
   "cell_type": "code",
   "execution_count": null,
   "metadata": {},
   "outputs": [],
   "source": []
  }
 ],
 "metadata": {
  "anaconda-cloud": {},
  "kernelspec": {
   "display_name": "Python 3",
   "language": "python",
   "name": "python3"
  },
  "language_info": {
   "codemirror_mode": {
    "name": "ipython",
    "version": 3
   },
   "file_extension": ".py",
   "mimetype": "text/x-python",
   "name": "python",
   "nbconvert_exporter": "python",
   "pygments_lexer": "ipython3",
   "version": "3.6.8"
  }
 },
 "nbformat": 4,
 "nbformat_minor": 1
}
